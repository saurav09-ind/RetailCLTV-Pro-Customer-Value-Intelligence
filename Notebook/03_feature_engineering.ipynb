{
 "cells": [
  {
   "cell_type": "code",
   "execution_count": 2,
   "id": "d3745bbf",
   "metadata": {},
   "outputs": [],
   "source": [
    "import pandas as pd \n",
    "import numpy as np "
   ]
  },
  {
   "cell_type": "code",
   "execution_count": 3,
   "id": "6b8ab199",
   "metadata": {},
   "outputs": [],
   "source": [
    "df = pd.read_csv('D:\\\\Python basics\\\\CLTV-360\\\\CSV files\\\\Cleaned_online_retail.csv',parse_dates=['InvoiceDate'])"
   ]
  },
  {
   "cell_type": "code",
   "execution_count": 4,
   "id": "b719ec94",
   "metadata": {},
   "outputs": [
    {
     "data": {
      "text/html": [
       "<div>\n",
       "<style scoped>\n",
       "    .dataframe tbody tr th:only-of-type {\n",
       "        vertical-align: middle;\n",
       "    }\n",
       "\n",
       "    .dataframe tbody tr th {\n",
       "        vertical-align: top;\n",
       "    }\n",
       "\n",
       "    .dataframe thead th {\n",
       "        text-align: right;\n",
       "    }\n",
       "</style>\n",
       "<table border=\"1\" class=\"dataframe\">\n",
       "  <thead>\n",
       "    <tr style=\"text-align: right;\">\n",
       "      <th></th>\n",
       "      <th>InvoiceNo</th>\n",
       "      <th>StockCode</th>\n",
       "      <th>Description</th>\n",
       "      <th>Quantity</th>\n",
       "      <th>InvoiceDate</th>\n",
       "      <th>UnitPrice</th>\n",
       "      <th>CustomerID</th>\n",
       "      <th>Country</th>\n",
       "      <th>InvoiceYear</th>\n",
       "      <th>InvoiceMonth</th>\n",
       "      <th>InvoiceDay</th>\n",
       "      <th>InvoiceTime</th>\n",
       "      <th>InvoiceWeekDay</th>\n",
       "      <th>TotalPrice</th>\n",
       "    </tr>\n",
       "  </thead>\n",
       "  <tbody>\n",
       "    <tr>\n",
       "      <th>0</th>\n",
       "      <td>536365</td>\n",
       "      <td>85123A</td>\n",
       "      <td>WHITE HANGING HEART T-LIGHT HOLDER</td>\n",
       "      <td>6</td>\n",
       "      <td>2010-12-01 08:26:00</td>\n",
       "      <td>2.55</td>\n",
       "      <td>17850.0</td>\n",
       "      <td>United Kingdom</td>\n",
       "      <td>2010</td>\n",
       "      <td>12</td>\n",
       "      <td>1</td>\n",
       "      <td>08:26</td>\n",
       "      <td>Wednesday</td>\n",
       "      <td>15.3</td>\n",
       "    </tr>\n",
       "  </tbody>\n",
       "</table>\n",
       "</div>"
      ],
      "text/plain": [
       "   InvoiceNo StockCode                         Description  Quantity  \\\n",
       "0     536365    85123A  WHITE HANGING HEART T-LIGHT HOLDER         6   \n",
       "\n",
       "          InvoiceDate  UnitPrice  CustomerID         Country  InvoiceYear  \\\n",
       "0 2010-12-01 08:26:00       2.55     17850.0  United Kingdom         2010   \n",
       "\n",
       "   InvoiceMonth  InvoiceDay InvoiceTime InvoiceWeekDay  TotalPrice  \n",
       "0            12           1       08:26      Wednesday        15.3  "
      ]
     },
     "execution_count": 4,
     "metadata": {},
     "output_type": "execute_result"
    }
   ],
   "source": [
    "df.head(1)"
   ]
  },
  {
   "cell_type": "markdown",
   "id": "71c5e941",
   "metadata": {},
   "source": [
    " Set Reference Date for Recency (max invoice date + 1)"
   ]
  },
  {
   "cell_type": "code",
   "execution_count": 5,
   "id": "f6dae02f",
   "metadata": {},
   "outputs": [
    {
     "name": "stdout",
     "output_type": "stream",
     "text": [
      "Reference Date: 2011-12-10\n"
     ]
    }
   ],
   "source": [
    "reference_date = df[\"InvoiceDate\"].max() + pd.Timedelta(days=1)\n",
    "print(\"Reference Date:\", reference_date.date())\n"
   ]
  },
  {
   "cell_type": "markdown",
   "id": "2fbf5083",
   "metadata": {},
   "source": [
    " Create RFM Table"
   ]
  },
  {
   "cell_type": "code",
   "execution_count": 6,
   "id": "fb030730",
   "metadata": {},
   "outputs": [],
   "source": [
    "recency  =df.groupby(\"CustomerID\")[\"InvoiceDate\"].max().apply(lambda x: (reference_date - x).days)\n",
    "customer_age = df.groupby(\"CustomerID\")[\"InvoiceDate\"].agg(lambda x:(x.max() - x.min()).days)\n",
    "frequency = df.groupby(\"CustomerID\")[\"InvoiceNo\"].nunique()\n",
    "monetary = df.groupby(\"CustomerID\")[\"TotalPrice\"].sum()\n",
    "Churn_rate = 1 / (customer_age + 1)\n"
   ]
  },
  {
   "cell_type": "markdown",
   "id": "4f01bedd",
   "metadata": {},
   "source": [
    " Combine into one DataFrame"
   ]
  },
  {
   "cell_type": "code",
   "execution_count": 7,
   "id": "b0bb8d16",
   "metadata": {},
   "outputs": [],
   "source": [
    "rfm = pd.DataFrame ({\n",
    "     \"Recency\": recency,\n",
    "    \"Customer_Age\": customer_age,\n",
    "    \"Frequency\": frequency,\n",
    "    \"Monetary\": monetary,\n",
    "    \"ChurnProbab\": Churn_rate\n",
    "    \n",
    "}).reset_index()"
   ]
  },
  {
   "cell_type": "code",
   "execution_count": 8,
   "id": "286ef627",
   "metadata": {},
   "outputs": [
    {
     "data": {
      "text/plain": [
       "Index(['CustomerID', 'Recency', 'Customer_Age', 'Frequency', 'Monetary',\n",
       "       'ChurnProbab'],\n",
       "      dtype='object')"
      ]
     },
     "execution_count": 8,
     "metadata": {},
     "output_type": "execute_result"
    }
   ],
   "source": [
    "rfm.columns"
   ]
  },
  {
   "cell_type": "markdown",
   "id": "b170d00a",
   "metadata": {},
   "source": [
    "Calculate Derived Features"
   ]
  },
  {
   "cell_type": "code",
   "execution_count": 9,
   "id": "d4d687f3",
   "metadata": {},
   "outputs": [],
   "source": [
    "rfm['AOV'] = rfm['Monetary'] / rfm['Frequency']\n",
    "rfm['PurchaseFrequency'] = rfm['Frequency'] / (rfm['Customer_Age']+1)  \n",
    "rfm = rfm.round(2)"
   ]
  },
  {
   "cell_type": "code",
   "execution_count": 10,
   "id": "456c332b",
   "metadata": {},
   "outputs": [
    {
     "data": {
      "text/plain": [
       "Index(['CustomerID', 'Recency', 'Customer_Age', 'Frequency', 'Monetary',\n",
       "       'ChurnProbab', 'AOV', 'PurchaseFrequency'],\n",
       "      dtype='object')"
      ]
     },
     "execution_count": 10,
     "metadata": {},
     "output_type": "execute_result"
    }
   ],
   "source": [
    "rfm.columns"
   ]
  },
  {
   "cell_type": "code",
   "execution_count": 11,
   "id": "7bb3545d",
   "metadata": {},
   "outputs": [
    {
     "data": {
      "text/html": [
       "<div>\n",
       "<style scoped>\n",
       "    .dataframe tbody tr th:only-of-type {\n",
       "        vertical-align: middle;\n",
       "    }\n",
       "\n",
       "    .dataframe tbody tr th {\n",
       "        vertical-align: top;\n",
       "    }\n",
       "\n",
       "    .dataframe thead th {\n",
       "        text-align: right;\n",
       "    }\n",
       "</style>\n",
       "<table border=\"1\" class=\"dataframe\">\n",
       "  <thead>\n",
       "    <tr style=\"text-align: right;\">\n",
       "      <th></th>\n",
       "      <th>CustomerID</th>\n",
       "      <th>Recency</th>\n",
       "      <th>Customer_Age</th>\n",
       "      <th>Frequency</th>\n",
       "      <th>Monetary</th>\n",
       "      <th>ChurnProbab</th>\n",
       "      <th>AOV</th>\n",
       "      <th>PurchaseFrequency</th>\n",
       "    </tr>\n",
       "  </thead>\n",
       "  <tbody>\n",
       "    <tr>\n",
       "      <th>1689</th>\n",
       "      <td>14646.0</td>\n",
       "      <td>2</td>\n",
       "      <td>353</td>\n",
       "      <td>72</td>\n",
       "      <td>279138.02</td>\n",
       "      <td>0.0</td>\n",
       "      <td>3876.92</td>\n",
       "      <td>0.20</td>\n",
       "    </tr>\n",
       "    <tr>\n",
       "      <th>4198</th>\n",
       "      <td>18102.0</td>\n",
       "      <td>1</td>\n",
       "      <td>366</td>\n",
       "      <td>60</td>\n",
       "      <td>259657.30</td>\n",
       "      <td>0.0</td>\n",
       "      <td>4327.62</td>\n",
       "      <td>0.16</td>\n",
       "    </tr>\n",
       "    <tr>\n",
       "      <th>3726</th>\n",
       "      <td>17450.0</td>\n",
       "      <td>8</td>\n",
       "      <td>359</td>\n",
       "      <td>46</td>\n",
       "      <td>194550.79</td>\n",
       "      <td>0.0</td>\n",
       "      <td>4229.36</td>\n",
       "      <td>0.13</td>\n",
       "    </tr>\n",
       "    <tr>\n",
       "      <th>3007</th>\n",
       "      <td>16446.0</td>\n",
       "      <td>1</td>\n",
       "      <td>204</td>\n",
       "      <td>2</td>\n",
       "      <td>168472.50</td>\n",
       "      <td>0.0</td>\n",
       "      <td>84236.25</td>\n",
       "      <td>0.01</td>\n",
       "    </tr>\n",
       "    <tr>\n",
       "      <th>1879</th>\n",
       "      <td>14911.0</td>\n",
       "      <td>1</td>\n",
       "      <td>372</td>\n",
       "      <td>199</td>\n",
       "      <td>140450.72</td>\n",
       "      <td>0.0</td>\n",
       "      <td>705.78</td>\n",
       "      <td>0.53</td>\n",
       "    </tr>\n",
       "    <tr>\n",
       "      <th>55</th>\n",
       "      <td>12415.0</td>\n",
       "      <td>24</td>\n",
       "      <td>313</td>\n",
       "      <td>20</td>\n",
       "      <td>124564.53</td>\n",
       "      <td>0.0</td>\n",
       "      <td>6228.23</td>\n",
       "      <td>0.06</td>\n",
       "    </tr>\n",
       "    <tr>\n",
       "      <th>1333</th>\n",
       "      <td>14156.0</td>\n",
       "      <td>10</td>\n",
       "      <td>361</td>\n",
       "      <td>55</td>\n",
       "      <td>117379.63</td>\n",
       "      <td>0.0</td>\n",
       "      <td>2134.18</td>\n",
       "      <td>0.15</td>\n",
       "    </tr>\n",
       "    <tr>\n",
       "      <th>3769</th>\n",
       "      <td>17511.0</td>\n",
       "      <td>3</td>\n",
       "      <td>370</td>\n",
       "      <td>31</td>\n",
       "      <td>91062.38</td>\n",
       "      <td>0.0</td>\n",
       "      <td>2937.50</td>\n",
       "      <td>0.08</td>\n",
       "    </tr>\n",
       "    <tr>\n",
       "      <th>0</th>\n",
       "      <td>12346.0</td>\n",
       "      <td>326</td>\n",
       "      <td>0</td>\n",
       "      <td>1</td>\n",
       "      <td>77183.60</td>\n",
       "      <td>1.0</td>\n",
       "      <td>77183.60</td>\n",
       "      <td>1.00</td>\n",
       "    </tr>\n",
       "    <tr>\n",
       "      <th>2701</th>\n",
       "      <td>16029.0</td>\n",
       "      <td>39</td>\n",
       "      <td>335</td>\n",
       "      <td>62</td>\n",
       "      <td>72882.09</td>\n",
       "      <td>0.0</td>\n",
       "      <td>1175.52</td>\n",
       "      <td>0.18</td>\n",
       "    </tr>\n",
       "  </tbody>\n",
       "</table>\n",
       "</div>"
      ],
      "text/plain": [
       "      CustomerID  Recency  Customer_Age  Frequency   Monetary  ChurnProbab  \\\n",
       "1689     14646.0        2           353         72  279138.02          0.0   \n",
       "4198     18102.0        1           366         60  259657.30          0.0   \n",
       "3726     17450.0        8           359         46  194550.79          0.0   \n",
       "3007     16446.0        1           204          2  168472.50          0.0   \n",
       "1879     14911.0        1           372        199  140450.72          0.0   \n",
       "55       12415.0       24           313         20  124564.53          0.0   \n",
       "1333     14156.0       10           361         55  117379.63          0.0   \n",
       "3769     17511.0        3           370         31   91062.38          0.0   \n",
       "0        12346.0      326             0          1   77183.60          1.0   \n",
       "2701     16029.0       39           335         62   72882.09          0.0   \n",
       "\n",
       "           AOV  PurchaseFrequency  \n",
       "1689   3876.92               0.20  \n",
       "4198   4327.62               0.16  \n",
       "3726   4229.36               0.13  \n",
       "3007  84236.25               0.01  \n",
       "1879    705.78               0.53  \n",
       "55     6228.23               0.06  \n",
       "1333   2134.18               0.15  \n",
       "3769   2937.50               0.08  \n",
       "0     77183.60               1.00  \n",
       "2701   1175.52               0.18  "
      ]
     },
     "execution_count": 11,
     "metadata": {},
     "output_type": "execute_result"
    }
   ],
   "source": [
    "rfm.sort_values('Monetary',ascending=False).head(10)"
   ]
  },
  {
   "cell_type": "markdown",
   "id": "7d8a8bbe",
   "metadata": {},
   "source": [
    "Save to CSV Folder"
   ]
  },
  {
   "cell_type": "code",
   "execution_count": 12,
   "id": "17a66e32",
   "metadata": {},
   "outputs": [
    {
     "name": "stdout",
     "output_type": "stream",
     "text": [
      "✅ Saved: customer_features.csv\n"
     ]
    },
    {
     "name": "stderr",
     "output_type": "stream",
     "text": [
      "<>:1: SyntaxWarning: invalid escape sequence '\\C'\n",
      "<>:1: SyntaxWarning: invalid escape sequence '\\C'\n",
      "C:\\Users\\Saurav\\AppData\\Local\\Temp\\ipykernel_4696\\1720576539.py:1: SyntaxWarning: invalid escape sequence '\\C'\n",
      "  rfm.to_csv(\"D:\\\\Python basics\\\\CLTV-360\\CSV files\\\\customer_features.csv\", index=False)\n"
     ]
    }
   ],
   "source": [
    "rfm.to_csv(\"D:\\\\Python basics\\\\CLTV-360\\CSV files\\\\customer_features.csv\", index=False)\n",
    "print(\"✅ Saved: customer_features.csv\")\n"
   ]
  },
  {
   "cell_type": "code",
   "execution_count": 13,
   "id": "c01f4ed8",
   "metadata": {},
   "outputs": [
    {
     "data": {
      "text/plain": [
       "0       1.00\n",
       "1       0.00\n",
       "2       0.00\n",
       "3       1.00\n",
       "4       1.00\n",
       "        ... \n",
       "4330    1.00\n",
       "4331    1.00\n",
       "4332    0.01\n",
       "4333    0.00\n",
       "4334    0.01\n",
       "Name: ChurnProbab, Length: 4335, dtype: float64"
      ]
     },
     "execution_count": 13,
     "metadata": {},
     "output_type": "execute_result"
    }
   ],
   "source": [
    "rfm['ChurnProbab']"
   ]
  },
  {
   "cell_type": "markdown",
   "id": "b2292ec5",
   "metadata": {},
   "source": [
    "What We Did:\n",
    "We created a churn rate per customer, likely based on recency or activity logic.\n",
    "Each customer got a value between:\n",
    "0.00 → Very active\n",
    "1.00 → Fully churned\n",
    "0.01 → Very low churn probability\n",
    "\n"
   ]
  },
  {
   "cell_type": "code",
   "execution_count": 14,
   "id": "043bc1a2",
   "metadata": {},
   "outputs": [],
   "source": [
    "import numpy as np\n",
    "\n",
    "# If gross margin not available, assume 50%\n",
    "gross_margin = 0.5\n",
    "\n",
    "# Optional way to simulate lifespan using inverse of recency\n",
    "rfm['Expected_Lifespan'] = 1 / (rfm['Recency'] + 1)  # Avoid division by zero\n",
    "rfm['Expected_Lifespan'] =rfm['Expected_Lifespan'].round(3)\n",
    "# Simple CLTV formula\n",
    "rfm['CLTV'] = rfm['AOV'] * rfm['Frequency'] * rfm['Expected_Lifespan'] * gross_margin\n",
    "\n",
    "# Round the values\n",
    "rfm['CLTV'] = rfm['CLTV'].round(2)\n"
   ]
  },
  {
   "cell_type": "code",
   "execution_count": 15,
   "id": "8fe93753",
   "metadata": {},
   "outputs": [
    {
     "data": {
      "text/plain": [
       "Index(['CustomerID', 'Recency', 'Customer_Age', 'Frequency', 'Monetary',\n",
       "       'ChurnProbab', 'AOV', 'PurchaseFrequency', 'Expected_Lifespan', 'CLTV'],\n",
       "      dtype='object')"
      ]
     },
     "execution_count": 15,
     "metadata": {},
     "output_type": "execute_result"
    }
   ],
   "source": [
    "rfm.columns"
   ]
  },
  {
   "cell_type": "markdown",
   "id": "0715d4d8",
   "metadata": {},
   "source": [
    "***Create Segmentation Logic (Clustering)***\n"
   ]
  },
  {
   "cell_type": "code",
   "execution_count": 16,
   "id": "8eb18c07",
   "metadata": {},
   "outputs": [],
   "source": [
    "features = ['CustomerID', 'Recency', 'Customer_Age', 'Frequency', 'Monetary',\n",
    "       'ChurnProbab', 'AOV', 'PurchaseFrequency', 'Expected_Lifespan', 'CLTV']"
   ]
  },
  {
   "cell_type": "code",
   "execution_count": 17,
   "id": "2740a8b4",
   "metadata": {},
   "outputs": [],
   "source": [
    "from sklearn. preprocessing import StandardScaler\n",
    "scaler = StandardScaler()"
   ]
  },
  {
   "cell_type": "code",
   "execution_count": 18,
   "id": "d251590b",
   "metadata": {},
   "outputs": [],
   "source": [
    "x_scaled = scaler.fit_transform (rfm[features])"
   ]
  },
  {
   "cell_type": "code",
   "execution_count": 19,
   "id": "b1df91f9",
   "metadata": {},
   "outputs": [
    {
     "data": {
      "text/plain": [
       "array([[-1.71546611,  2.3283718 , -0.98666805, ...,  1.04155724,\n",
       "        -0.5589886 , -0.02435893],\n",
       "       [-1.71488526, -0.9053206 ,  1.77689849, ..., -0.68032075,\n",
       "         2.97325518,  0.35378096],\n",
       "       [-1.71430442, -0.17674175,  1.14847103, ..., -0.69789094,\n",
       "        -0.45195091, -0.09123697],\n",
       "       ...,\n",
       "       [ 1.73245882, -0.8454374 , -0.09324106, ..., -0.68032075,\n",
       "         0.59701846, -0.09089768],\n",
       "       [ 1.73303967, -0.88535953,  1.5346132 , ..., -0.6276102 ,\n",
       "         1.5496539 ,  0.03414993],\n",
       "       [ 1.73536307, -0.49611878,  0.20961555, ..., -0.68032075,\n",
       "        -0.34491322, -0.08382912]], shape=(4335, 10))"
      ]
     },
     "execution_count": 19,
     "metadata": {},
     "output_type": "execute_result"
    }
   ],
   "source": [
    "x_scaled"
   ]
  },
  {
   "cell_type": "code",
   "execution_count": 20,
   "id": "479635ef",
   "metadata": {},
   "outputs": [
    {
     "data": {
      "image/png": "[encoded data removed]",
      "text/plain": [
       "<Figure size 640x480 with 1 Axes>"
      ]
     },
     "metadata": {},
     "output_type": "display_data"
    }
   ],
   "source": [
    "from sklearn.cluster import KMeans\n",
    "import matplotlib.pyplot as plt\n",
    "\n",
    "inertia = []\n",
    "K = list(range(1, 10))  # Convert range to list for clarity\n",
    "\n",
    "for k in K:\n",
    "    kmeans = KMeans(n_clusters=k, random_state=42)\n",
    "    kmeans.fit(x_scaled)\n",
    "    inertia.append(kmeans.inertia_)\n",
    "\n",
    "plt.plot(K, inertia, 'bo-')\n",
    "plt.xlabel('Number of clusters (K)')\n",
    "plt.ylabel('Inertia')\n",
    "plt.title('Elbow Method For Optimal K')\n",
    "plt.grid(True)\n",
    "plt.show()\n"
   ]
  },
  {
   "cell_type": "code",
   "execution_count": 21,
   "id": "1896acb3",
   "metadata": {},
   "outputs": [],
   "source": [
    "kmeans = KMeans(n_clusters=4, random_state=42)\n",
    "rfm['Segment'] = kmeans.fit_predict(x_scaled)\n"
   ]
  },
  {
   "cell_type": "code",
   "execution_count": 22,
   "id": "8346da3c",
   "metadata": {},
   "outputs": [],
   "source": [
    "final_segmented_df = rfm.copy()\n",
    "final_segmented_df['Segment'] = rfm['Segment']\n"
   ]
  },
  {
   "cell_type": "code",
   "execution_count": 26,
   "id": "6aed7104",
   "metadata": {},
   "outputs": [
    {
     "data": {
      "text/plain": [
       "Segment\n",
       "2    2391\n",
       "1    1578\n",
       "0     361\n",
       "3       5\n",
       "Name: count, dtype: int64"
      ]
     },
     "execution_count": 26,
     "metadata": {},
     "output_type": "execute_result"
    }
   ],
   "source": [
    "rfm['Segment'].value_counts()"
   ]
  },
  {
   "cell_type": "code",
   "execution_count": 24,
   "id": "4987a045",
   "metadata": {},
   "outputs": [],
   "source": [
    "final_segmented_df.to_csv('D:\\\\Python basics\\\\CLTV-360\\\\CSV files\\\\rfm_segments.csv', index=False)\n"
   ]
  },
  {
   "cell_type": "markdown",
   "id": "6fb0649d",
   "metadata": {},
   "source": [
    "CALCULATE CLTV "
   ]
  },
  {
   "cell_type": "code",
   "execution_count": 25,
   "id": "9c451dbc",
   "metadata": {},
   "outputs": [
    {
     "data": {
      "text/plain": [
       "0       115.78\n",
       "1       717.61\n",
       "2         9.34\n",
       "3        36.44\n",
       "4         0.44\n",
       "         ...  \n",
       "4330      0.36\n",
       "4331      0.20\n",
       "4332      9.88\n",
       "4333    208.90\n",
       "4334     21.13\n",
       "Name: CLTV, Length: 4335, dtype: float64"
      ]
     },
     "execution_count": 25,
     "metadata": {},
     "output_type": "execute_result"
    }
   ],
   "source": [
    "rfm['CLTV']"
   ]
  },
  {
   "cell_type": "markdown",
   "id": "9ce1cf98",
   "metadata": {},
   "source": [
    "🧾 CLTV Score Conclusion:\n",
    "\n",
    "The CLTV scores range from as low as ₹0.20 to as high as ₹717.61, indicating a wide variation in customer value. A small segment of customers contributes significantly to revenue, while the majority have relatively low lifetime value. This suggests a strong case for customer segmentation, targeted retention strategies for high-value customers, and reactivation campaigns for low-value ones."
   ]
  },
  {
   "cell_type": "markdown",
   "id": "79aa7289",
   "metadata": {},
   "source": [
    "✅ Why use 1 / (Recency + 1) instead of raw Recency?\n",
    "Recency measures the number of days (or weeks/months) since the customer's last purchase.\n",
    "\n",
    "Lower Recency = Customer purchased recently → More valuable\n",
    "\n",
    "Higher Recency = Long time since last purchase → Less valuable\n",
    "\n",
    "If we directly use Recency, higher values will reduce CLTV, but in a linear way, which doesn't always reflect the true customer behavior."
   ]
  },
  {
   "cell_type": "code",
   "execution_count": null,
   "id": "bbf7c2d2",
   "metadata": {},
   "outputs": [],
   "source": []
  }
 ],
 "metadata": {
  "kernelspec": {
   "display_name": "Python 3",
   "language": "python",
   "name": "python3"
  },
  "language_info": {
   "codemirror_mode": {
    "name": "ipython",
    "version": 3
   },
   "file_extension": ".py",
   "mimetype": "text/x-python",
   "name": "python",
   "nbconvert_exporter": "python",
   "pygments_lexer": "ipython3",
   "version": "3.13.5"
  }
 },
 "nbformat": 4,
 "nbformat_minor": 5
}
